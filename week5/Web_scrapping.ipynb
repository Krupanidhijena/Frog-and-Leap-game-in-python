{
  "nbformat": 4,
  "nbformat_minor": 0,
  "metadata": {
    "colab": {
      "provenance": []
    },
    "kernelspec": {
      "name": "python3",
      "display_name": "Python 3"
    },
    "language_info": {
      "name": "python"
    }
  },
  "cells": [
    {
      "cell_type": "code",
      "source": [
        "\n",
        "import requests\n",
        "\n",
        "\n",
        "from bs4 import BeautifulSoup\n",
        "\n",
        "\n",
        "import pandas as pd"
      ],
      "metadata": {
        "id": "NfR1_OtmTe9r"
      },
      "execution_count": 2,
      "outputs": []
    },
    {
      "cell_type": "code",
      "execution_count": 9,
      "metadata": {
        "id": "BewcF2hKTVAS"
      },
      "outputs": [],
      "source": [
        "books = []\n",
        "\n",
        "for i in range(1,20):\n",
        "  url = f\"https://books.toscrape.com/catalogue/page-{i}.html\"\n",
        "  response = requests.get(url)\n",
        "  response = response.content\n",
        "  soup = BeautifulSoup(response, 'html.parser')\n",
        "  ol = soup.find('ol')\n",
        "  articles = ol.find_all('article', class_='product_pod')\n",
        "  for article in articles:\n",
        "    image = article.find('img')\n",
        "    title = image.attrs['alt']\n",
        "    href = article.find('a')['href']\n",
        "    full_url = f'http://{href}'\n",
        "    starTag = article.find('p')\n",
        "    star = starTag['class'][1]\n",
        "    price = article.find('p', class_='price_color').text\n",
        "    # price = float(price[1:])\n",
        "    books.append([title, star, price, full_url])\n",
        "\n",
        "\n"
      ]
    },
    {
      "cell_type": "code",
      "source": [
        "df = pd.DataFrame(books, columns=['Title', 'Star Rating', 'Price', 'Link'])\n",
        "df.to_csv('books.csv')"
      ],
      "metadata": {
        "id": "WHa7-W3YTZk5"
      },
      "execution_count": 10,
      "outputs": []
    }
  ]
}